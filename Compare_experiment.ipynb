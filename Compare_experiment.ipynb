{
 "cells": [
  {
   "cell_type": "code",
   "execution_count": 27,
   "metadata": {},
   "outputs": [],
   "source": [
    "import numpy as np\n",
    "import matplotlib.pyplot as plt\n",
    "%matplotlib inline\n",
    "time_step = 10\n",
    "input_num = 1000\n",
    "adjust_steps = 200\n",
    "\n",
    "tau_i_input = 2 * np.ones(input_num)\n",
    "tau_i_output = 2\n",
    "tau_u = 5\n",
    "\n",
    "i_input_decay = (1-1/tau_i_input)\n",
    "i_output_decay = (1-1/tau_i_output)\n",
    "u_decay = (1-1/tau_u)"
   ]
  },
  {
   "cell_type": "code",
   "execution_count": 28,
   "metadata": {},
   "outputs": [],
   "source": [
    "def smooth(x, decay):\n",
    "    if len(x.shape)==1:\n",
    "        x = x.reshape(1,len(x))\n",
    "    x = x.astype(float)\n",
    "    x_smooth = np.zeros_like(x)\n",
    "    x_smooth[:,0]=x[:,0]/(1/(1-decay))\n",
    "    for i in range(len(x[0])-1):\n",
    "        x_smooth[:,i+1] = x_smooth[:,i]*decay + x[:,i+1].astype(float)/(1/(1-decay))\n",
    "    return x_smooth"
   ]
  },
  {
   "cell_type": "code",
   "execution_count": 29,
   "metadata": {},
   "outputs": [],
   "source": [
    "def sigmoid(x,temp):\n",
    "    exp = np.clip(-x/temp, -10, 10)\n",
    "    return 1 / (1 + np.exp(exp))"
   ]
  },
  {
   "cell_type": "code",
   "execution_count": 30,
   "metadata": {},
   "outputs": [],
   "source": [
    "output_record = np.zeros((adjust_steps, time_step))\n",
    "delta_0_record = np.zeros((adjust_steps, time_step))\n",
    "delta_record = np.zeros((adjust_steps, time_step))\n",
    "grad_record = np.zeros((adjust_steps, time_step))\n",
    "\n",
    "loss_record = np.zeros(adjust_steps)\n",
    "tau_u_record = np.zeros(adjust_steps)\n",
    "i_decay_record = np.zeros(adjust_steps)\n",
    "u = np.zeros(time_step)\n",
    "delta_u = np.zeros(time_step)\n",
    "output = np.zeros(time_step)"
   ]
  },
  {
   "cell_type": "code",
   "execution_count": 31,
   "metadata": {},
   "outputs": [],
   "source": [
    "def gen_partial_a(delta):\n",
    "    partial_a = np.zeros((time_step, time_step))\n",
    "    for t in range(time_step):\n",
    "        if t > 0:\n",
    "            partial_a[t] = partial_a[t - 1] - partial_a[t - 1] / tau_i_output\n",
    "        partial_a[t, t] = 1/tau_i_output\n",
    "    for t in range(time_step):\n",
    "        if delta[t] <= 0:\n",
    "#             partial_a[t-1, t] = -1\n",
    "#             for j in range(t-2,-1,-1):\n",
    "#                 partial_a[j,t] = partial_a[j+1,t] * (1 - 1 / tau_i_output)\n",
    "            partial_a[t, t] = 0\n",
    "        else:\n",
    "            partial_a[t, t] = -1\n",
    "    return partial_a\n",
    "    \n",
    "partial_a_0 = np.zeros((time_step, time_step))\n",
    "for t in range(time_step):\n",
    "    if t > 0:\n",
    "        partial_a_0[t] = partial_a_0[t - 1] - partial_a_0[t - 1] / tau_i_output\n",
    "    partial_a_0[t, t] = 1/tau_i_output\n",
    "\n"
   ]
  },
  {
   "cell_type": "code",
   "execution_count": 32,
   "metadata": {},
   "outputs": [],
   "source": [
    "def figs_plot(plot_flag):\n",
    "    if plot_flag:\n",
    "        plt.figure()\n",
    "        plt.plot(loss_record)\n",
    "        \n",
    "        plt.figure(figsize=(12,5*adjust_steps/time_step/2))\n",
    "\n",
    "        plt.subplot(131)\n",
    "        plt.imshow(output_record, cmap='cividis')\n",
    "        plt.title('output record')\n",
    "        for i,o in enumerate(desired_output[0]):\n",
    "            if o == 1:\n",
    "                plt.plot((i,i),(0,adjust_steps-1),c='r',alpha=1)\n",
    "        plt.colorbar()\n",
    "    #     plt.figure(figsize=(5,5*adjust_steps/time_step))\n",
    "\n",
    "    #     plt.figure(figsize=(5,5*adjust_steps/time_step))\n",
    "        plt.subplot(132)\n",
    "        plt.imshow(delta_record, cmap='cividis')\n",
    "        plt.title('delta_record')\n",
    "        for i,o in enumerate(desired_output[0]):\n",
    "            if o == 1:\n",
    "                plt.plot((i,i),(0,adjust_steps-1),c='r',alpha=1)\n",
    "        plt.colorbar()\n",
    "                \n",
    "        plt.subplot(133)\n",
    "        plt.imshow(grad_record, cmap='cividis')\n",
    "        plt.title('grad_record')\n",
    "        for i,o in enumerate(desired_output[0]):\n",
    "            if o == 1:\n",
    "                plt.plot((i,i),(0,adjust_steps-1),c='r',alpha=1)\n",
    "        plt.colorbar()\n",
    "def prepare_plot(plot_flag):\n",
    "    if plot_flag:\n",
    "        plt.figure(figsize=(6,4))\n",
    "        global u_fig\n",
    "        u_fig = plt.axes()\n",
    "        plt.title(\"Membrane Potential\")\n",
    "        \n",
    "        plt.figure(figsize=(6,4))\n",
    "        global delta_u_fig\n",
    "        delta_u_fig = plt.axes()\n",
    "        plt.title('delta_u')\n",
    "        \n",
    "        plt.figure(figsize=(6,4))\n",
    "        global delta_fig\n",
    "        delta_fig = plt.axes()\n",
    "        plt.title('Delta')\n",
    "\n",
    "        plt.figure(figsize=(6,4))\n",
    "        global grad_fig\n",
    "        grad_fig = plt.axes()\n",
    "        plt.title('Grad')\n",
    "        \n"
   ]
  },
  {
   "cell_type": "code",
   "execution_count": 48,
   "metadata": {},
   "outputs": [],
   "source": [
    "threshold = 1\n",
    "temp = 2"
   ]
  },
  {
   "cell_type": "code",
   "execution_count": 49,
   "metadata": {},
   "outputs": [
    {
     "data": {
      "text/plain": [
       "<matplotlib.colorbar.Colorbar at 0x1146a5f98>"
      ]
     },
     "execution_count": 49,
     "metadata": {},
     "output_type": "execute_result"
    },
    {
     "data": {
      "image/png": "[encoded data removed]",
      "text/plain": [
       "<Figure size 432x288 with 2 Axes>"
      ]
     },
     "metadata": {
      "needs_background": "light"
     },
     "output_type": "display_data"
    }
   ],
   "source": [
    "a = np.random.randint(0,20, size=(input_num,time_step))\n",
    "a = (a==0).astype(float)\n",
    "a_smooth = smooth(a, i_input_decay)\n",
    "plt.figure(figsize=(6,4))\n",
    "plt.imshow(a_smooth, cmap='cividis')\n",
    "plt.colorbar(shrink=.5)"
   ]
  },
  {
   "cell_type": "code",
   "execution_count": null,
   "metadata": {},
   "outputs": [
    {
     "name": "stdout",
     "output_type": "stream",
     "text": [
      "0\n",
      "1\n",
      "2\n",
      "3\n",
      "4\n",
      "5\n",
      "6\n",
      "7\n",
      "8\n",
      "9\n",
      "10\n",
      "11\n",
      "12\n",
      "13\n",
      "14\n",
      "15\n",
      "16\n",
      "17\n",
      "18\n",
      "19\n",
      "20\n",
      "21\n",
      "22\n",
      "23\n",
      "24\n",
      "25\n",
      "26\n",
      "27\n",
      "28\n",
      "29\n",
      "30\n",
      "31\n",
      "32\n",
      "33\n",
      "34\n",
      "35\n",
      "36\n",
      "37\n",
      "38\n",
      "39\n",
      "40\n",
      "41\n",
      "42\n",
      "43\n",
      "44\n",
      "45\n",
      "46\n",
      "47\n",
      "48\n",
      "49\n"
     ]
    }
   ],
   "source": [
    "total_rounds = 100\n",
    "neighbor_loss = np.zeros(adjust_steps)\n",
    "for counter in range(total_rounds):\n",
    "    print(counter)\n",
    "    weights = (np.random.random(size=input_num)-0.5) *0.1\n",
    "    desired_output = np.random.randint(0,4,size=(1,time_step))\n",
    "    desired_output = (desired_output == 0).astype(float)\n",
    "    desired_output_smooth = smooth(desired_output, i_output_decay)\n",
    "\n",
    "    tau_i_input = 2 * np.ones(input_num)\n",
    "    tau_i_output = 2\n",
    "    tau_u = 5\n",
    "\n",
    "    i_input_decay = (1-1/tau_i_input)\n",
    "    i_output_decay = (1-1/tau_i_output)\n",
    "    u_decay = (1-1/tau_u)\n",
    "    lr = 0.01\n",
    "    for i in range(adjust_steps):\n",
    "        lr *= 0.996\n",
    "        # Forward\n",
    "        output = np.zeros(time_step)\n",
    "        u[0] = delta_u[0] = u_temp = np.dot(weights, a_smooth[:,0])\n",
    "\n",
    "        if u[0] > threshold:\n",
    "            u_temp = 0\n",
    "            output[0] = 1\n",
    "        for j in range(time_step-1):\n",
    "            u[j+1] = u_temp * u_decay + np.dot(weights,a_smooth[:,j+1])\n",
    "            delta_u[j+1] = u[j+1] - u[j]\n",
    "            if u[j+1] > threshold:\n",
    "                u_temp = 0\n",
    "                output[j+1] = 1\n",
    "            else:\n",
    "                u_temp = u[j+1]\n",
    "        output_smooth = smooth(output, i_output_decay)\n",
    "        output_fig.plot(output_smooth[0])\n",
    "\n",
    "        # Record status\n",
    "        output_record[i] = output\n",
    "        # Backward\n",
    "        # Calculate weight's gradient\n",
    "        delta = (output_smooth-desired_output_smooth)[0]\n",
    "#         delta_record[i] = delta\n",
    "\n",
    "        loss_record[i] = np.sum((output_smooth-desired_output_smooth)[0]**2)\n",
    "\n",
    "        # Find neighbors\n",
    "        PSC_delta = np.zeros(time_step)\n",
    "        project = np.zeros(time_step)\n",
    "        for t in range(time_step):\n",
    "            neighbor_output = output > 0\n",
    "            near_by = True\n",
    "            current_t = t\n",
    "            while near_by == True:\n",
    "                neighbor_output[current_t] = neighbor_output[current_t] ^ near_by\n",
    "                current_t += 1\n",
    "                if current_t == time_step:\n",
    "                    break\n",
    "                # New output of the previous time step\n",
    "                nopp = neighbor_output[current_t - 1]\n",
    "                # Membrane potential of the current time step\n",
    "                mbp = u[current_t]\n",
    "                near_by = near_by&\\\n",
    "                    ((near_by&(nopp==True)&((threshold<=mbp)&(mbp<(threshold+u_decay))))|\\\n",
    "                    (near_by&(nopp==False)&(((threshold-u_decay)<mbp)&(mbp<threshold))))\n",
    "            neighbor_PSC = smooth(neighbor_output.astype('float'), i_output_decay)\n",
    "            PSC_delta = neighbor_PSC - output_smooth\n",
    "            project[t] = PSC_delta.dot(-delta)/np.linalg.norm(PSC_delta)\n",
    "\n",
    "        sig = sigmoid(u-threshold, temp)\n",
    "        grad = project * (output - 0.5) * 2 * (sig*(1-sig))/temp\n",
    "#         for g in range(len(grad)-2, -1, -1):\n",
    "#             grad[g] += grad[g+1] * u_decay * (1 - output[g])\n",
    "\n",
    "        grad_w = grad.dot(a_smooth.T)\n",
    "\n",
    "        grad_record[i] = grad\n",
    "        # Move Step\n",
    "        weights = weights - lr * grad_w\n",
    "    neighbor_loss += loss_record\n",
    "plt.plot(neighbor_loss)"
   ]
  },
  {
   "cell_type": "code",
   "execution_count": null,
   "metadata": {},
   "outputs": [],
   "source": [
    "total_rounds = 100\n",
    "sig_loss = np.zeros(adjust_steps)\n",
    "for counter in range(total_rounds):\n",
    "    print(counter)\n",
    "    weights = (np.random.random(size=input_num)-0.5) *0.1\n",
    "    desired_output = np.random.randint(0,4,size=(1,time_step))\n",
    "    desired_output = (desired_output == 0).astype(float)\n",
    "    desired_output_smooth = smooth(desired_output, i_output_decay)\n",
    "\n",
    "    tau_i_input = 2 * np.ones(input_num)\n",
    "    tau_i_output = 2\n",
    "    tau_u = 5\n",
    "\n",
    "    i_input_decay = (1-1/tau_i_input)\n",
    "    i_output_decay = (1-1/tau_i_output)\n",
    "    u_decay = (1-1/tau_u)\n",
    "    lr = 0.01\n",
    "    for i in range(adjust_steps):\n",
    "        lr *= 0.996\n",
    "        # Forward\n",
    "        output = np.zeros(time_step)\n",
    "        u[0] = delta_u[0] = u_temp = np.dot(weights, a_smooth[:,0])\n",
    "\n",
    "        if u[0] > threshold:\n",
    "            u_temp = 0\n",
    "            output[0] = 1\n",
    "        for j in range(time_step-1):\n",
    "            u[j+1] = u_temp * u_decay + np.dot(weights,a_smooth[:,j+1])\n",
    "            delta_u[j+1] = u[j+1] - u[j]\n",
    "            if u[j+1] > threshold:\n",
    "                u_temp = 0\n",
    "                output[j+1] = 1\n",
    "            else:\n",
    "                u_temp = u[j+1]\n",
    "        output_smooth = smooth(output, i_output_decay)\n",
    "        output_fig.plot(output_smooth[0])\n",
    "\n",
    "        # Record status\n",
    "        output_record[i] = output\n",
    "        # Backward\n",
    "        # Calculate weight's gradient\n",
    "        delta = (output_smooth-desired_output_smooth)[0]\n",
    "#         delta_record[i] = delta\n",
    "\n",
    "        loss_record[i] = np.sum((output_smooth-desired_output_smooth)[0]**2)\n",
    "\n",
    "        sig = sigmoid(u-threshold, temp)\n",
    "        grad = delta * (sig*(1-sig))/temp\n",
    "        for g in range(len(grad)-2, -1, -1):\n",
    "            grad[g] += grad[g+1] * u_decay * (1 - output[g])\n",
    "\n",
    "        grad_w = grad.dot(a_smooth.T)\n",
    "\n",
    "        grad_record[i] = grad\n",
    "        # Move Step\n",
    "        weights = weights - lr * grad_w\n",
    "    sig_loss += loss_record\n",
    "plt.plot(sig_loss, label='surrogate')\n",
    "plt.plot(neighbor_loss, label='neighbors')\n",
    "plt.legend()"
   ]
  },
  {
   "cell_type": "code",
   "execution_count": 124,
   "metadata": {},
   "outputs": [
    {
     "data": {
      "text/plain": [
       "<matplotlib.legend.Legend at 0x1343121d0>"
      ]
     },
     "execution_count": 124,
     "metadata": {},
     "output_type": "execute_result"
    },
    {
     "data": {
      "image/png": "[encoded data removed]",
      "text/plain": [
       "<Figure size 432x288 with 1 Axes>"
      ]
     },
     "metadata": {
      "needs_background": "light"
     },
     "output_type": "display_data"
    }
   ],
   "source": [
    "plt.plot(sig_loss, label='surrogate')\n",
    "plt.plot(neighbor_loss, label='neighbors')\n",
    "plt.legend()"
   ]
  },
  {
   "cell_type": "code",
   "execution_count": null,
   "metadata": {},
   "outputs": [],
   "source": []
  }
 ],
 "metadata": {
  "kernelspec": {
   "display_name": "Python 3",
   "language": "python",
   "name": "python3"
  },
  "language_info": {
   "codemirror_mode": {
    "name": "ipython",
    "version": 3
   },
   "file_extension": ".py",
   "mimetype": "text/x-python",
   "name": "python",
   "nbconvert_exporter": "python",
   "pygments_lexer": "ipython3",
   "version": "3.7.1"
  }
 },
 "nbformat": 4,
 "nbformat_minor": 2
}
